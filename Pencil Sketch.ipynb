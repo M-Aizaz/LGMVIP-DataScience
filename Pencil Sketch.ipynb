{
 "cells": [
  {
   "cell_type": "markdown",
   "id": "73f29631",
   "metadata": {},
   "source": [
    "# Name : M.Aizaz Ud Din"
   ]
  },
  {
   "cell_type": "markdown",
   "id": "78184380",
   "metadata": {},
   "source": [
    "## LGM VIRTUAL INTERNSHIP PROGRAM 2021"
   ]
  },
  {
   "cell_type": "markdown",
   "id": "f2f2a74d",
   "metadata": {},
   "source": [
    "### January 2022"
   ]
  },
  {
   "cell_type": "markdown",
   "id": "a8b176a0",
   "metadata": {},
   "source": [
    "### Domain : DATA SCIENCE"
   ]
  },
  {
   "cell_type": "markdown",
   "id": "e22a1e9e",
   "metadata": {},
   "source": [
    "## Task 1: Image to Pencil Sketch with Python"
   ]
  },
  {
   "cell_type": "markdown",
   "id": "e217c02c",
   "metadata": {},
   "source": [
    "#### Importing all libraries required in this notebook"
   ]
  },
  {
   "cell_type": "code",
   "execution_count": 2,
   "id": "9aa24240",
   "metadata": {},
   "outputs": [],
   "source": [
    "import cv2 as cv"
   ]
  },
  {
   "cell_type": "markdown",
   "id": "3bd5d367",
   "metadata": {},
   "source": [
    "### Read Image"
   ]
  },
  {
   "cell_type": "code",
   "execution_count": 37,
   "id": "7ca83804",
   "metadata": {},
   "outputs": [
    {
     "data": {
      "text/plain": [
       "-1"
      ]
     },
     "execution_count": 37,
     "metadata": {},
     "output_type": "execute_result"
    }
   ],
   "source": [
    "img = cv.imread(\"D:\\Artifical Intelligence\\Code\\Pencil-Sketch\\cat.jpg\")\n",
    "cv.imshow(\"Cat\", img)\n",
    "cv.waitKey(0)"
   ]
  },
  {
   "cell_type": "code",
   "execution_count": 9,
   "id": "bc58af66",
   "metadata": {},
   "outputs": [
    {
     "data": {
      "text/plain": [
       "(399, 620, 3)"
      ]
     },
     "execution_count": 9,
     "metadata": {},
     "output_type": "execute_result"
    }
   ],
   "source": [
    "img.shape"
   ]
  },
  {
   "cell_type": "code",
   "execution_count": 10,
   "id": "2ebf3bcc",
   "metadata": {},
   "outputs": [
    {
     "data": {
      "text/plain": [
       "dtype('uint8')"
      ]
     },
     "execution_count": 10,
     "metadata": {},
     "output_type": "execute_result"
    }
   ],
   "source": [
    "img.dtype"
   ]
  },
  {
   "cell_type": "markdown",
   "id": "af546854",
   "metadata": {},
   "source": [
    "### Convert image into Gray sacle"
   ]
  },
  {
   "cell_type": "code",
   "execution_count": 38,
   "id": "d6e11e02",
   "metadata": {},
   "outputs": [
    {
     "data": {
      "text/plain": [
       "-1"
      ]
     },
     "execution_count": 38,
     "metadata": {},
     "output_type": "execute_result"
    }
   ],
   "source": [
    "gray = cv.cvtColor(img ,cv.COLOR_BGR2GRAY)\n",
    "cv.imshow(\"cat\",gray)\n",
    "cv.waitKey(0)"
   ]
  },
  {
   "cell_type": "markdown",
   "id": "1ee4a9dc",
   "metadata": {},
   "source": [
    "### Convert image into Negative image"
   ]
  },
  {
   "cell_type": "code",
   "execution_count": 39,
   "id": "1b92e3be",
   "metadata": {},
   "outputs": [
    {
     "data": {
      "text/plain": [
       "-1"
      ]
     },
     "execution_count": 39,
     "metadata": {},
     "output_type": "execute_result"
    }
   ],
   "source": [
    "inverted_image = 255 - gray\n",
    "cv.imshow(\"Inverted\", inverted_image)\n",
    "cv.waitKey()"
   ]
  },
  {
   "cell_type": "code",
   "execution_count": null,
   "id": "ad865079",
   "metadata": {},
   "outputs": [],
   "source": [
    "Convert image into Blur image"
   ]
  },
  {
   "cell_type": "code",
   "execution_count": 25,
   "id": "61535bd9",
   "metadata": {},
   "outputs": [],
   "source": [
    "blur = cv.GaussianBlur(inverted_image, (21, 21), 0)"
   ]
  },
  {
   "cell_type": "markdown",
   "id": "36116035",
   "metadata": {},
   "source": [
    "### Inverted Blur Image"
   ]
  },
  {
   "cell_type": "code",
   "execution_count": 40,
   "id": "e1b0fedb",
   "metadata": {},
   "outputs": [
    {
     "data": {
      "text/plain": [
       "-1"
      ]
     },
     "execution_count": 40,
     "metadata": {},
     "output_type": "execute_result"
    }
   ],
   "source": [
    "Inverted_Blur=255 - blur\n",
    "cv.imshow(\"Inverted_Blur\",Inverted_Blur)\n",
    "cv.waitKey()"
   ]
  },
  {
   "cell_type": "markdown",
   "id": "00eb4bfe",
   "metadata": {},
   "source": [
    "### Dividing the grayscale image to the inverted blur image"
   ]
  },
  {
   "cell_type": "code",
   "execution_count": 42,
   "id": "edb14dbd",
   "metadata": {},
   "outputs": [
    {
     "data": {
      "text/plain": [
       "-1"
      ]
     },
     "execution_count": 42,
     "metadata": {},
     "output_type": "execute_result"
    }
   ],
   "source": [
    "pencil_sketch = cv.divide(gray, Inverted_Blur, scale=255)\n",
    "cv.imshow(\"Sketch\", pencil_sketch)\n",
    "cv.waitKey(0)"
   ]
  },
  {
   "cell_type": "code",
   "execution_count": null,
   "id": "c739925f",
   "metadata": {},
   "outputs": [],
   "source": []
  }
 ],
 "metadata": {
  "kernelspec": {
   "display_name": "Python 3 (ipykernel)",
   "language": "python",
   "name": "python3"
  },
  "language_info": {
   "codemirror_mode": {
    "name": "ipython",
    "version": 3
   },
   "file_extension": ".py",
   "mimetype": "text/x-python",
   "name": "python",
   "nbconvert_exporter": "python",
   "pygments_lexer": "ipython3",
   "version": "3.9.7"
  }
 },
 "nbformat": 4,
 "nbformat_minor": 5
}
