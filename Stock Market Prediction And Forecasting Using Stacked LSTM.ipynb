{
 "cells": [
  {
   "cell_type": "markdown",
   "id": "090fb526",
   "metadata": {},
   "source": [
    "# Name : M.Aizaz Ud Din"
   ]
  },
  {
   "cell_type": "markdown",
   "id": "010262b8",
   "metadata": {},
   "source": [
    "### LGM VIRTUAL INTERNSHIP PROGRAM 2021"
   ]
  },
  {
   "cell_type": "markdown",
   "id": "3d979607",
   "metadata": {},
   "source": [
    "### January 2022"
   ]
  },
  {
   "cell_type": "markdown",
   "id": "cc740393",
   "metadata": {},
   "source": [
    "### Domain : DATA SCIENCE"
   ]
  },
  {
   "cell_type": "markdown",
   "id": "662b4791",
   "metadata": {},
   "source": [
    "### Task 1:Stock Market Prediction And Forecasting Using Stacked LSTM"
   ]
  },
  {
   "cell_type": "markdown",
   "id": "58b54594",
   "metadata": {},
   "source": [
    "##### Importing all libraries required in this notebook"
   ]
  },
  {
   "cell_type": "code",
   "execution_count": 2,
   "id": "8278cff6",
   "metadata": {},
   "outputs": [],
   "source": [
    "import tabula as tb\n",
    "import pandas as pd\n",
    "import numpy as np\n",
    "import matplotlib.pyplot as plt\n",
    "import seaborn as sa"
   ]
  },
  {
   "cell_type": "markdown",
   "id": "8f0e3faa",
   "metadata": {},
   "source": [
    "### Read File"
   ]
  },
  {
   "cell_type": "code",
   "execution_count": 3,
   "id": "91f49baf",
   "metadata": {},
   "outputs": [],
   "source": [
    "path=\"https://raw.githubusercontent.com/mwitiderrick/stockprice/master/NSE-TATAGLOBAL.csv\""
   ]
  },
  {
   "cell_type": "code",
   "execution_count": 4,
   "id": "c1f5a5c0",
   "metadata": {},
   "outputs": [],
   "source": [
    "data=pd.read_csv(path,sep=\",\")"
   ]
  },
  {
   "cell_type": "code",
   "execution_count": 5,
   "id": "bdc334cc",
   "metadata": {},
   "outputs": [
    {
     "data": {
      "text/html": [
       "<div>\n",
       "<style scoped>\n",
       "    .dataframe tbody tr th:only-of-type {\n",
       "        vertical-align: middle;\n",
       "    }\n",
       "\n",
       "    .dataframe tbody tr th {\n",
       "        vertical-align: top;\n",
       "    }\n",
       "\n",
       "    .dataframe thead th {\n",
       "        text-align: right;\n",
       "    }\n",
       "</style>\n",
       "<table border=\"1\" class=\"dataframe\">\n",
       "  <thead>\n",
       "    <tr style=\"text-align: right;\">\n",
       "      <th></th>\n",
       "      <th>Date</th>\n",
       "      <th>Open</th>\n",
       "      <th>High</th>\n",
       "      <th>Low</th>\n",
       "      <th>Last</th>\n",
       "      <th>Close</th>\n",
       "      <th>Total Trade Quantity</th>\n",
       "      <th>Turnover (Lacs)</th>\n",
       "    </tr>\n",
       "  </thead>\n",
       "  <tbody>\n",
       "    <tr>\n",
       "      <th>0</th>\n",
       "      <td>2018-09-28</td>\n",
       "      <td>234.05</td>\n",
       "      <td>235.95</td>\n",
       "      <td>230.20</td>\n",
       "      <td>233.50</td>\n",
       "      <td>233.75</td>\n",
       "      <td>3069914</td>\n",
       "      <td>7162.35</td>\n",
       "    </tr>\n",
       "    <tr>\n",
       "      <th>1</th>\n",
       "      <td>2018-09-27</td>\n",
       "      <td>234.55</td>\n",
       "      <td>236.80</td>\n",
       "      <td>231.10</td>\n",
       "      <td>233.80</td>\n",
       "      <td>233.25</td>\n",
       "      <td>5082859</td>\n",
       "      <td>11859.95</td>\n",
       "    </tr>\n",
       "    <tr>\n",
       "      <th>2</th>\n",
       "      <td>2018-09-26</td>\n",
       "      <td>240.00</td>\n",
       "      <td>240.00</td>\n",
       "      <td>232.50</td>\n",
       "      <td>235.00</td>\n",
       "      <td>234.25</td>\n",
       "      <td>2240909</td>\n",
       "      <td>5248.60</td>\n",
       "    </tr>\n",
       "    <tr>\n",
       "      <th>3</th>\n",
       "      <td>2018-09-25</td>\n",
       "      <td>233.30</td>\n",
       "      <td>236.75</td>\n",
       "      <td>232.00</td>\n",
       "      <td>236.25</td>\n",
       "      <td>236.10</td>\n",
       "      <td>2349368</td>\n",
       "      <td>5503.90</td>\n",
       "    </tr>\n",
       "    <tr>\n",
       "      <th>4</th>\n",
       "      <td>2018-09-24</td>\n",
       "      <td>233.55</td>\n",
       "      <td>239.20</td>\n",
       "      <td>230.75</td>\n",
       "      <td>234.00</td>\n",
       "      <td>233.30</td>\n",
       "      <td>3423509</td>\n",
       "      <td>7999.55</td>\n",
       "    </tr>\n",
       "  </tbody>\n",
       "</table>\n",
       "</div>"
      ],
      "text/plain": [
       "         Date    Open    High     Low    Last   Close  Total Trade Quantity  \\\n",
       "0  2018-09-28  234.05  235.95  230.20  233.50  233.75               3069914   \n",
       "1  2018-09-27  234.55  236.80  231.10  233.80  233.25               5082859   \n",
       "2  2018-09-26  240.00  240.00  232.50  235.00  234.25               2240909   \n",
       "3  2018-09-25  233.30  236.75  232.00  236.25  236.10               2349368   \n",
       "4  2018-09-24  233.55  239.20  230.75  234.00  233.30               3423509   \n",
       "\n",
       "   Turnover (Lacs)  \n",
       "0          7162.35  \n",
       "1         11859.95  \n",
       "2          5248.60  \n",
       "3          5503.90  \n",
       "4          7999.55  "
      ]
     },
     "execution_count": 5,
     "metadata": {},
     "output_type": "execute_result"
    }
   ],
   "source": [
    "data.head()"
   ]
  },
  {
   "cell_type": "code",
   "execution_count": 6,
   "id": "944da58a",
   "metadata": {},
   "outputs": [
    {
     "data": {
      "text/html": [
       "<div>\n",
       "<style scoped>\n",
       "    .dataframe tbody tr th:only-of-type {\n",
       "        vertical-align: middle;\n",
       "    }\n",
       "\n",
       "    .dataframe tbody tr th {\n",
       "        vertical-align: top;\n",
       "    }\n",
       "\n",
       "    .dataframe thead th {\n",
       "        text-align: right;\n",
       "    }\n",
       "</style>\n",
       "<table border=\"1\" class=\"dataframe\">\n",
       "  <thead>\n",
       "    <tr style=\"text-align: right;\">\n",
       "      <th></th>\n",
       "      <th>Date</th>\n",
       "      <th>Open</th>\n",
       "      <th>High</th>\n",
       "      <th>Low</th>\n",
       "      <th>Last</th>\n",
       "      <th>Close</th>\n",
       "      <th>Total Trade Quantity</th>\n",
       "      <th>Turnover (Lacs)</th>\n",
       "    </tr>\n",
       "  </thead>\n",
       "  <tbody>\n",
       "    <tr>\n",
       "      <th>2030</th>\n",
       "      <td>2010-07-27</td>\n",
       "      <td>117.6</td>\n",
       "      <td>119.50</td>\n",
       "      <td>112.00</td>\n",
       "      <td>118.80</td>\n",
       "      <td>118.65</td>\n",
       "      <td>586100</td>\n",
       "      <td>694.98</td>\n",
       "    </tr>\n",
       "    <tr>\n",
       "      <th>2031</th>\n",
       "      <td>2010-07-26</td>\n",
       "      <td>120.1</td>\n",
       "      <td>121.00</td>\n",
       "      <td>117.10</td>\n",
       "      <td>117.10</td>\n",
       "      <td>117.60</td>\n",
       "      <td>658440</td>\n",
       "      <td>780.01</td>\n",
       "    </tr>\n",
       "    <tr>\n",
       "      <th>2032</th>\n",
       "      <td>2010-07-23</td>\n",
       "      <td>121.8</td>\n",
       "      <td>121.95</td>\n",
       "      <td>120.25</td>\n",
       "      <td>120.35</td>\n",
       "      <td>120.65</td>\n",
       "      <td>281312</td>\n",
       "      <td>340.31</td>\n",
       "    </tr>\n",
       "    <tr>\n",
       "      <th>2033</th>\n",
       "      <td>2010-07-22</td>\n",
       "      <td>120.3</td>\n",
       "      <td>122.00</td>\n",
       "      <td>120.25</td>\n",
       "      <td>120.75</td>\n",
       "      <td>120.90</td>\n",
       "      <td>293312</td>\n",
       "      <td>355.17</td>\n",
       "    </tr>\n",
       "    <tr>\n",
       "      <th>2034</th>\n",
       "      <td>2010-07-21</td>\n",
       "      <td>122.1</td>\n",
       "      <td>123.00</td>\n",
       "      <td>121.05</td>\n",
       "      <td>121.10</td>\n",
       "      <td>121.55</td>\n",
       "      <td>658666</td>\n",
       "      <td>803.56</td>\n",
       "    </tr>\n",
       "  </tbody>\n",
       "</table>\n",
       "</div>"
      ],
      "text/plain": [
       "            Date   Open    High     Low    Last   Close  Total Trade Quantity  \\\n",
       "2030  2010-07-27  117.6  119.50  112.00  118.80  118.65                586100   \n",
       "2031  2010-07-26  120.1  121.00  117.10  117.10  117.60                658440   \n",
       "2032  2010-07-23  121.8  121.95  120.25  120.35  120.65                281312   \n",
       "2033  2010-07-22  120.3  122.00  120.25  120.75  120.90                293312   \n",
       "2034  2010-07-21  122.1  123.00  121.05  121.10  121.55                658666   \n",
       "\n",
       "      Turnover (Lacs)  \n",
       "2030           694.98  \n",
       "2031           780.01  \n",
       "2032           340.31  \n",
       "2033           355.17  \n",
       "2034           803.56  "
      ]
     },
     "execution_count": 6,
     "metadata": {},
     "output_type": "execute_result"
    }
   ],
   "source": [
    "data.tail()"
   ]
  },
  {
   "cell_type": "markdown",
   "id": "d7c0f525",
   "metadata": {},
   "source": [
    "### Reverse the order of file"
   ]
  },
  {
   "cell_type": "code",
   "execution_count": 7,
   "id": "02ebc1d5",
   "metadata": {},
   "outputs": [],
   "source": [
    "df= data.iloc[::-1]"
   ]
  },
  {
   "cell_type": "code",
   "execution_count": 8,
   "id": "442049e3",
   "metadata": {},
   "outputs": [
    {
     "data": {
      "text/html": [
       "<div>\n",
       "<style scoped>\n",
       "    .dataframe tbody tr th:only-of-type {\n",
       "        vertical-align: middle;\n",
       "    }\n",
       "\n",
       "    .dataframe tbody tr th {\n",
       "        vertical-align: top;\n",
       "    }\n",
       "\n",
       "    .dataframe thead th {\n",
       "        text-align: right;\n",
       "    }\n",
       "</style>\n",
       "<table border=\"1\" class=\"dataframe\">\n",
       "  <thead>\n",
       "    <tr style=\"text-align: right;\">\n",
       "      <th></th>\n",
       "      <th>Date</th>\n",
       "      <th>Open</th>\n",
       "      <th>High</th>\n",
       "      <th>Low</th>\n",
       "      <th>Last</th>\n",
       "      <th>Close</th>\n",
       "      <th>Total Trade Quantity</th>\n",
       "      <th>Turnover (Lacs)</th>\n",
       "    </tr>\n",
       "  </thead>\n",
       "  <tbody>\n",
       "    <tr>\n",
       "      <th>2034</th>\n",
       "      <td>2010-07-21</td>\n",
       "      <td>122.1</td>\n",
       "      <td>123.00</td>\n",
       "      <td>121.05</td>\n",
       "      <td>121.10</td>\n",
       "      <td>121.55</td>\n",
       "      <td>658666</td>\n",
       "      <td>803.56</td>\n",
       "    </tr>\n",
       "    <tr>\n",
       "      <th>2033</th>\n",
       "      <td>2010-07-22</td>\n",
       "      <td>120.3</td>\n",
       "      <td>122.00</td>\n",
       "      <td>120.25</td>\n",
       "      <td>120.75</td>\n",
       "      <td>120.90</td>\n",
       "      <td>293312</td>\n",
       "      <td>355.17</td>\n",
       "    </tr>\n",
       "    <tr>\n",
       "      <th>2032</th>\n",
       "      <td>2010-07-23</td>\n",
       "      <td>121.8</td>\n",
       "      <td>121.95</td>\n",
       "      <td>120.25</td>\n",
       "      <td>120.35</td>\n",
       "      <td>120.65</td>\n",
       "      <td>281312</td>\n",
       "      <td>340.31</td>\n",
       "    </tr>\n",
       "    <tr>\n",
       "      <th>2031</th>\n",
       "      <td>2010-07-26</td>\n",
       "      <td>120.1</td>\n",
       "      <td>121.00</td>\n",
       "      <td>117.10</td>\n",
       "      <td>117.10</td>\n",
       "      <td>117.60</td>\n",
       "      <td>658440</td>\n",
       "      <td>780.01</td>\n",
       "    </tr>\n",
       "    <tr>\n",
       "      <th>2030</th>\n",
       "      <td>2010-07-27</td>\n",
       "      <td>117.6</td>\n",
       "      <td>119.50</td>\n",
       "      <td>112.00</td>\n",
       "      <td>118.80</td>\n",
       "      <td>118.65</td>\n",
       "      <td>586100</td>\n",
       "      <td>694.98</td>\n",
       "    </tr>\n",
       "  </tbody>\n",
       "</table>\n",
       "</div>"
      ],
      "text/plain": [
       "            Date   Open    High     Low    Last   Close  Total Trade Quantity  \\\n",
       "2034  2010-07-21  122.1  123.00  121.05  121.10  121.55                658666   \n",
       "2033  2010-07-22  120.3  122.00  120.25  120.75  120.90                293312   \n",
       "2032  2010-07-23  121.8  121.95  120.25  120.35  120.65                281312   \n",
       "2031  2010-07-26  120.1  121.00  117.10  117.10  117.60                658440   \n",
       "2030  2010-07-27  117.6  119.50  112.00  118.80  118.65                586100   \n",
       "\n",
       "      Turnover (Lacs)  \n",
       "2034           803.56  \n",
       "2033           355.17  \n",
       "2032           340.31  \n",
       "2031           780.01  \n",
       "2030           694.98  "
      ]
     },
     "execution_count": 8,
     "metadata": {},
     "output_type": "execute_result"
    }
   ],
   "source": [
    "df.head()"
   ]
  },
  {
   "cell_type": "code",
   "execution_count": 9,
   "id": "e9138d95",
   "metadata": {},
   "outputs": [
    {
     "data": {
      "text/html": [
       "<div>\n",
       "<style scoped>\n",
       "    .dataframe tbody tr th:only-of-type {\n",
       "        vertical-align: middle;\n",
       "    }\n",
       "\n",
       "    .dataframe tbody tr th {\n",
       "        vertical-align: top;\n",
       "    }\n",
       "\n",
       "    .dataframe thead th {\n",
       "        text-align: right;\n",
       "    }\n",
       "</style>\n",
       "<table border=\"1\" class=\"dataframe\">\n",
       "  <thead>\n",
       "    <tr style=\"text-align: right;\">\n",
       "      <th></th>\n",
       "      <th>Date</th>\n",
       "      <th>Open</th>\n",
       "      <th>High</th>\n",
       "      <th>Low</th>\n",
       "      <th>Last</th>\n",
       "      <th>Close</th>\n",
       "      <th>Total Trade Quantity</th>\n",
       "      <th>Turnover (Lacs)</th>\n",
       "    </tr>\n",
       "  </thead>\n",
       "  <tbody>\n",
       "    <tr>\n",
       "      <th>4</th>\n",
       "      <td>2018-09-24</td>\n",
       "      <td>233.55</td>\n",
       "      <td>239.20</td>\n",
       "      <td>230.75</td>\n",
       "      <td>234.00</td>\n",
       "      <td>233.30</td>\n",
       "      <td>3423509</td>\n",
       "      <td>7999.55</td>\n",
       "    </tr>\n",
       "    <tr>\n",
       "      <th>3</th>\n",
       "      <td>2018-09-25</td>\n",
       "      <td>233.30</td>\n",
       "      <td>236.75</td>\n",
       "      <td>232.00</td>\n",
       "      <td>236.25</td>\n",
       "      <td>236.10</td>\n",
       "      <td>2349368</td>\n",
       "      <td>5503.90</td>\n",
       "    </tr>\n",
       "    <tr>\n",
       "      <th>2</th>\n",
       "      <td>2018-09-26</td>\n",
       "      <td>240.00</td>\n",
       "      <td>240.00</td>\n",
       "      <td>232.50</td>\n",
       "      <td>235.00</td>\n",
       "      <td>234.25</td>\n",
       "      <td>2240909</td>\n",
       "      <td>5248.60</td>\n",
       "    </tr>\n",
       "    <tr>\n",
       "      <th>1</th>\n",
       "      <td>2018-09-27</td>\n",
       "      <td>234.55</td>\n",
       "      <td>236.80</td>\n",
       "      <td>231.10</td>\n",
       "      <td>233.80</td>\n",
       "      <td>233.25</td>\n",
       "      <td>5082859</td>\n",
       "      <td>11859.95</td>\n",
       "    </tr>\n",
       "    <tr>\n",
       "      <th>0</th>\n",
       "      <td>2018-09-28</td>\n",
       "      <td>234.05</td>\n",
       "      <td>235.95</td>\n",
       "      <td>230.20</td>\n",
       "      <td>233.50</td>\n",
       "      <td>233.75</td>\n",
       "      <td>3069914</td>\n",
       "      <td>7162.35</td>\n",
       "    </tr>\n",
       "  </tbody>\n",
       "</table>\n",
       "</div>"
      ],
      "text/plain": [
       "         Date    Open    High     Low    Last   Close  Total Trade Quantity  \\\n",
       "4  2018-09-24  233.55  239.20  230.75  234.00  233.30               3423509   \n",
       "3  2018-09-25  233.30  236.75  232.00  236.25  236.10               2349368   \n",
       "2  2018-09-26  240.00  240.00  232.50  235.00  234.25               2240909   \n",
       "1  2018-09-27  234.55  236.80  231.10  233.80  233.25               5082859   \n",
       "0  2018-09-28  234.05  235.95  230.20  233.50  233.75               3069914   \n",
       "\n",
       "   Turnover (Lacs)  \n",
       "4          7999.55  \n",
       "3          5503.90  \n",
       "2          5248.60  \n",
       "1         11859.95  \n",
       "0          7162.35  "
      ]
     },
     "execution_count": 9,
     "metadata": {},
     "output_type": "execute_result"
    }
   ],
   "source": [
    "df.tail()"
   ]
  },
  {
   "cell_type": "markdown",
   "id": "b97d8fd1",
   "metadata": {},
   "source": [
    "### Let us plot the Close value graph using pyplot"
   ]
  },
  {
   "cell_type": "code",
   "execution_count": 10,
   "id": "d03049bc",
   "metadata": {},
   "outputs": [],
   "source": [
    "data_close=df[\"Close\"]"
   ]
  },
  {
   "cell_type": "code",
   "execution_count": 11,
   "id": "db30f0f8",
   "metadata": {},
   "outputs": [
    {
     "data": {
      "text/plain": [
       "[<matplotlib.lines.Line2D at 0x24b3fb4e0d0>]"
      ]
     },
     "execution_count": 11,
     "metadata": {},
     "output_type": "execute_result"
    },
    {
     "data": {
      "image/png": "[encoded data removed]",
      "text/plain": [
       "<Figure size 432x288 with 1 Axes>"
      ]
     },
     "metadata": {
      "needs_background": "light"
     },
     "output_type": "display_data"
    }
   ],
   "source": [
    "plt.plot(data_close)"
   ]
  },
  {
   "cell_type": "markdown",
   "id": "043b57a4",
   "metadata": {},
   "source": [
    "### set value of close in range of 0,1"
   ]
  },
  {
   "cell_type": "code",
   "execution_count": 12,
   "id": "72f86121",
   "metadata": {},
   "outputs": [],
   "source": [
    "from sklearn.preprocessing import MinMaxScaler\n",
    "scaler=MinMaxScaler(feature_range=(0,1))\n",
    "data_close=scaler.fit_transform(np.array(data_close).reshape(-1,1))"
   ]
  },
  {
   "cell_type": "markdown",
   "id": "bb86fabc",
   "metadata": {},
   "source": [
    "### Test and train data"
   ]
  },
  {
   "cell_type": "code",
   "execution_count": 13,
   "id": "72ca9cd9",
   "metadata": {},
   "outputs": [],
   "source": [
    "train_data=int(0.65*len(data_close))"
   ]
  },
  {
   "cell_type": "code",
   "execution_count": 14,
   "id": "e9a1e0d1",
   "metadata": {},
   "outputs": [],
   "source": [
    "test_data=len(data_close)-train_data"
   ]
  },
  {
   "cell_type": "code",
   "execution_count": 15,
   "id": "3a058044",
   "metadata": {},
   "outputs": [],
   "source": [
    "train,test=data_close[0:train_data,:],data_close[train_data:len(data_close),:1]"
   ]
  },
  {
   "cell_type": "code",
   "execution_count": 16,
   "id": "bf9621cb",
   "metadata": {},
   "outputs": [],
   "source": [
    "import numpy\n",
    "# convert an array of values into a dataset matrix\n",
    "def create_dataset(dataset, time_step=1):\n",
    "    dataX, dataY = [], []\n",
    "    for i in range(len(dataset)-time_step-1):\n",
    "        a = dataset[i:(i+time_step), 0]   ###i=0, 0,1,2,3-----99   100 \n",
    "        dataX.append(a)\n",
    "        dataY.append(dataset[i + time_step, 0])\n",
    "    return numpy.array(dataX), numpy.array(dataY)"
   ]
  },
  {
   "cell_type": "code",
   "execution_count": 17,
   "id": "ba6a9813",
   "metadata": {},
   "outputs": [],
   "source": [
    "time_step = 100\n",
    "X_train, y_train = create_dataset(train, time_step)\n",
    "X_test, ytest = create_dataset(test, time_step)"
   ]
  },
  {
   "cell_type": "code",
   "execution_count": 42,
   "id": "275ee4a3",
   "metadata": {},
   "outputs": [
    {
     "name": "stdout",
     "output_type": "stream",
     "text": [
      "(1221, 100, 1)\n",
      "(1221,)\n"
     ]
    },
    {
     "data": {
      "text/plain": [
       "(None, None)"
      ]
     },
     "execution_count": 42,
     "metadata": {},
     "output_type": "execute_result"
    }
   ],
   "source": [
    "print(X_train.shape) ,print(y_train.shape)"
   ]
  },
  {
   "cell_type": "code",
   "execution_count": 44,
   "id": "f6a76d27",
   "metadata": {},
   "outputs": [
    {
     "name": "stdout",
     "output_type": "stream",
     "text": [
      "(612, 100, 1)\n",
      "(612,)\n"
     ]
    },
    {
     "data": {
      "text/plain": [
       "(None, None)"
      ]
     },
     "execution_count": 44,
     "metadata": {},
     "output_type": "execute_result"
    }
   ],
   "source": [
    "print(X_test.shape) ,print(ytest.shape)"
   ]
  },
  {
   "cell_type": "code",
   "execution_count": 18,
   "id": "f32354c6",
   "metadata": {},
   "outputs": [],
   "source": [
    "X_train =X_train.reshape(X_train.shape[0],X_train.shape[1] , 1)\n",
    "X_test = X_test.reshape(X_test.shape[0],X_test.shape[1] , 1)"
   ]
  },
  {
   "cell_type": "markdown",
   "id": "6d1c6610",
   "metadata": {},
   "source": [
    "### Then import required modules for the stacked LSTM."
   ]
  },
  {
   "cell_type": "code",
   "execution_count": 19,
   "id": "bf3acd04",
   "metadata": {},
   "outputs": [],
   "source": [
    "from tensorflow.keras.models import Sequential\n",
    "from tensorflow.keras.layers import Dense\n",
    "from tensorflow.keras.layers import Dropout\n",
    "from tensorflow.keras.layers import LSTM"
   ]
  },
  {
   "cell_type": "code",
   "execution_count": 20,
   "id": "0357b717",
   "metadata": {},
   "outputs": [],
   "source": [
    "model=Sequential()\n",
    "model.add(LSTM(50,return_sequences=True,input_shape=(100,1)))\n",
    "model.add(Dropout(0.25))"
   ]
  },
  {
   "cell_type": "code",
   "execution_count": 21,
   "id": "9267e380",
   "metadata": {},
   "outputs": [],
   "source": [
    "model.add(LSTM(50,return_sequences=True))\n",
    "model.add(LSTM(50))\n",
    "model.add(Dropout(0.25))"
   ]
  },
  {
   "cell_type": "code",
   "execution_count": 22,
   "id": "43b96ee4",
   "metadata": {},
   "outputs": [],
   "source": [
    "model.add(Dense(1))\n",
    "model.compile(loss='mean_squared_error',optimizer='adam', metrics=['accuracy'])"
   ]
  },
  {
   "cell_type": "code",
   "execution_count": 23,
   "id": "cdda1787",
   "metadata": {},
   "outputs": [
    {
     "name": "stdout",
     "output_type": "stream",
     "text": [
      "Model: \"sequential\"\n",
      "_________________________________________________________________\n",
      " Layer (type)                Output Shape              Param #   \n",
      "=================================================================\n",
      " lstm (LSTM)                 (None, 100, 50)           10400     \n",
      "                                                                 \n",
      " dropout (Dropout)           (None, 100, 50)           0         \n",
      "                                                                 \n",
      " lstm_1 (LSTM)               (None, 100, 50)           20200     \n",
      "                                                                 \n",
      " lstm_2 (LSTM)               (None, 50)                20200     \n",
      "                                                                 \n",
      " dropout_1 (Dropout)         (None, 50)                0         \n",
      "                                                                 \n",
      " dense (Dense)               (None, 1)                 51        \n",
      "                                                                 \n",
      "=================================================================\n",
      "Total params: 50,851\n",
      "Trainable params: 50,851\n",
      "Non-trainable params: 0\n",
      "_________________________________________________________________\n"
     ]
    }
   ],
   "source": [
    "model.summary()"
   ]
  },
  {
   "cell_type": "code",
   "execution_count": 32,
   "id": "767e0b0a",
   "metadata": {},
   "outputs": [
    {
     "name": "stdout",
     "output_type": "stream",
     "text": [
      "Epoch 1/100\n",
      "20/20 [==============================] - 6s 302ms/step - loss: 8.0970e-04 - accuracy: 8.1900e-04 - val_loss: 0.0052 - val_accuracy: 0.0016\n",
      "Epoch 2/100\n",
      "20/20 [==============================] - 5s 269ms/step - loss: 8.0592e-04 - accuracy: 8.1900e-04 - val_loss: 0.0061 - val_accuracy: 0.0016\n",
      "Epoch 3/100\n",
      "20/20 [==============================] - 6s 320ms/step - loss: 8.0168e-04 - accuracy: 8.1900e-04 - val_loss: 0.0045 - val_accuracy: 0.0016\n",
      "Epoch 4/100\n",
      "20/20 [==============================] - 7s 350ms/step - loss: 7.5821e-04 - accuracy: 8.1900e-04 - val_loss: 0.0048 - val_accuracy: 0.0016\n",
      "Epoch 5/100\n",
      "20/20 [==============================] - 7s 340ms/step - loss: 8.7956e-04 - accuracy: 8.1900e-04 - val_loss: 0.0023 - val_accuracy: 0.0016\n",
      "Epoch 6/100\n",
      "20/20 [==============================] - 7s 371ms/step - loss: 8.2833e-04 - accuracy: 8.1900e-04 - val_loss: 0.0031 - val_accuracy: 0.0016\n",
      "Epoch 7/100\n",
      "20/20 [==============================] - 7s 337ms/step - loss: 7.6175e-04 - accuracy: 8.1900e-04 - val_loss: 0.0044 - val_accuracy: 0.0016\n",
      "Epoch 8/100\n",
      "20/20 [==============================] - 7s 351ms/step - loss: 7.3473e-04 - accuracy: 8.1900e-04 - val_loss: 0.0046 - val_accuracy: 0.0016\n",
      "Epoch 9/100\n",
      "20/20 [==============================] - 8s 411ms/step - loss: 6.5635e-04 - accuracy: 8.1900e-04 - val_loss: 0.0037 - val_accuracy: 0.0016\n",
      "Epoch 10/100\n",
      "20/20 [==============================] - 8s 424ms/step - loss: 7.1906e-04 - accuracy: 8.1900e-04 - val_loss: 0.0029 - val_accuracy: 0.0016\n",
      "Epoch 11/100\n",
      "20/20 [==============================] - 8s 382ms/step - loss: 6.6080e-04 - accuracy: 8.1900e-04 - val_loss: 0.0036 - val_accuracy: 0.0016\n",
      "Epoch 12/100\n",
      "20/20 [==============================] - 7s 344ms/step - loss: 7.2818e-04 - accuracy: 8.1900e-04 - val_loss: 0.0026 - val_accuracy: 0.0016\n",
      "Epoch 13/100\n",
      "20/20 [==============================] - 8s 412ms/step - loss: 7.1068e-04 - accuracy: 8.1900e-04 - val_loss: 0.0042 - val_accuracy: 0.0016\n",
      "Epoch 14/100\n",
      "20/20 [==============================] - 7s 366ms/step - loss: 6.4259e-04 - accuracy: 8.1900e-04 - val_loss: 0.0042 - val_accuracy: 0.0016\n",
      "Epoch 15/100\n",
      "20/20 [==============================] - 7s 361ms/step - loss: 6.4249e-04 - accuracy: 8.1900e-04 - val_loss: 0.0033 - val_accuracy: 0.0016\n",
      "Epoch 16/100\n",
      "20/20 [==============================] - 6s 285ms/step - loss: 6.4957e-04 - accuracy: 8.1900e-04 - val_loss: 0.0048 - val_accuracy: 0.0016\n",
      "Epoch 17/100\n",
      "20/20 [==============================] - 6s 320ms/step - loss: 6.5814e-04 - accuracy: 8.1900e-04 - val_loss: 0.0046 - val_accuracy: 0.0016\n",
      "Epoch 18/100\n",
      "20/20 [==============================] - 7s 362ms/step - loss: 6.1464e-04 - accuracy: 8.1900e-04 - val_loss: 0.0066 - val_accuracy: 0.0016\n",
      "Epoch 19/100\n",
      "20/20 [==============================] - 7s 360ms/step - loss: 6.2172e-04 - accuracy: 8.1900e-04 - val_loss: 0.0031 - val_accuracy: 0.0016\n",
      "Epoch 20/100\n",
      "20/20 [==============================] - 6s 282ms/step - loss: 6.2896e-04 - accuracy: 8.1900e-04 - val_loss: 0.0041 - val_accuracy: 0.0016\n",
      "Epoch 21/100\n",
      "20/20 [==============================] - 6s 294ms/step - loss: 5.7025e-04 - accuracy: 8.1900e-04 - val_loss: 0.0034 - val_accuracy: 0.0016\n",
      "Epoch 22/100\n",
      "20/20 [==============================] - 6s 282ms/step - loss: 5.8011e-04 - accuracy: 8.1900e-04 - val_loss: 0.0019 - val_accuracy: 0.0016\n",
      "Epoch 23/100\n",
      "20/20 [==============================] - 6s 306ms/step - loss: 5.5134e-04 - accuracy: 8.1900e-04 - val_loss: 0.0046 - val_accuracy: 0.0016\n",
      "Epoch 24/100\n",
      "20/20 [==============================] - 6s 292ms/step - loss: 5.6285e-04 - accuracy: 8.1900e-04 - val_loss: 0.0040 - val_accuracy: 0.0016\n",
      "Epoch 25/100\n",
      "20/20 [==============================] - 6s 325ms/step - loss: 5.5652e-04 - accuracy: 8.1900e-04 - val_loss: 0.0025 - val_accuracy: 0.0016\n",
      "Epoch 26/100\n",
      "20/20 [==============================] - 6s 283ms/step - loss: 5.5349e-04 - accuracy: 8.1900e-04 - val_loss: 0.0020 - val_accuracy: 0.0016\n",
      "Epoch 27/100\n",
      "20/20 [==============================] - 6s 282ms/step - loss: 5.9562e-04 - accuracy: 8.1900e-04 - val_loss: 0.0029 - val_accuracy: 0.0016\n",
      "Epoch 28/100\n",
      "20/20 [==============================] - 6s 281ms/step - loss: 5.2724e-04 - accuracy: 8.1900e-04 - val_loss: 0.0023 - val_accuracy: 0.0016\n",
      "Epoch 29/100\n",
      "20/20 [==============================] - 6s 277ms/step - loss: 5.7668e-04 - accuracy: 8.1900e-04 - val_loss: 0.0034 - val_accuracy: 0.0016\n",
      "Epoch 30/100\n",
      "20/20 [==============================] - 7s 336ms/step - loss: 4.8917e-04 - accuracy: 8.1900e-04 - val_loss: 0.0035 - val_accuracy: 0.0016\n",
      "Epoch 31/100\n",
      "20/20 [==============================] - 8s 381ms/step - loss: 5.2397e-04 - accuracy: 8.1900e-04 - val_loss: 0.0033 - val_accuracy: 0.0016\n",
      "Epoch 32/100\n",
      "20/20 [==============================] - 7s 353ms/step - loss: 5.1910e-04 - accuracy: 8.1900e-04 - val_loss: 0.0057 - val_accuracy: 0.0016\n",
      "Epoch 33/100\n",
      "20/20 [==============================] - 6s 283ms/step - loss: 6.8377e-04 - accuracy: 8.1900e-04 - val_loss: 0.0018 - val_accuracy: 0.0016\n",
      "Epoch 34/100\n",
      "20/20 [==============================] - 6s 323ms/step - loss: 5.0669e-04 - accuracy: 8.1900e-04 - val_loss: 0.0040 - val_accuracy: 0.0016\n",
      "Epoch 35/100\n",
      "20/20 [==============================] - 7s 366ms/step - loss: 4.9830e-04 - accuracy: 8.1900e-04 - val_loss: 0.0026 - val_accuracy: 0.0016\n",
      "Epoch 36/100\n",
      "20/20 [==============================] - 7s 336ms/step - loss: 5.7541e-04 - accuracy: 8.1900e-04 - val_loss: 0.0028 - val_accuracy: 0.0016\n",
      "Epoch 37/100\n",
      "20/20 [==============================] - 6s 301ms/step - loss: 4.8415e-04 - accuracy: 8.1900e-04 - val_loss: 0.0030 - val_accuracy: 0.0016\n",
      "Epoch 38/100\n",
      "20/20 [==============================] - 6s 281ms/step - loss: 5.1586e-04 - accuracy: 8.1900e-04 - val_loss: 0.0048 - val_accuracy: 0.0016\n",
      "Epoch 39/100\n",
      "20/20 [==============================] - 6s 278ms/step - loss: 4.6514e-04 - accuracy: 8.1900e-04 - val_loss: 0.0028 - val_accuracy: 0.0016\n",
      "Epoch 40/100\n",
      "20/20 [==============================] - 6s 329ms/step - loss: 4.3978e-04 - accuracy: 8.1900e-04 - val_loss: 0.0027 - val_accuracy: 0.0016\n",
      "Epoch 41/100\n",
      "20/20 [==============================] - 6s 291ms/step - loss: 4.4567e-04 - accuracy: 8.1900e-04 - val_loss: 0.0029 - val_accuracy: 0.0016\n",
      "Epoch 42/100\n",
      "20/20 [==============================] - 6s 280ms/step - loss: 4.5251e-04 - accuracy: 8.1900e-04 - val_loss: 0.0019 - val_accuracy: 0.0016\n",
      "Epoch 43/100\n",
      "20/20 [==============================] - 6s 323ms/step - loss: 5.0355e-04 - accuracy: 8.1900e-04 - val_loss: 0.0047 - val_accuracy: 0.0016\n",
      "Epoch 44/100\n",
      "20/20 [==============================] - 8s 404ms/step - loss: 4.6523e-04 - accuracy: 8.1900e-04 - val_loss: 0.0023 - val_accuracy: 0.0016\n",
      "Epoch 45/100\n",
      "20/20 [==============================] - 7s 364ms/step - loss: 4.3540e-04 - accuracy: 8.1900e-04 - val_loss: 0.0021 - val_accuracy: 0.0016\n",
      "Epoch 46/100\n",
      "20/20 [==============================] - 7s 347ms/step - loss: 4.5309e-04 - accuracy: 8.1900e-04 - val_loss: 0.0023 - val_accuracy: 0.0016\n",
      "Epoch 47/100\n",
      "20/20 [==============================] - 7s 354ms/step - loss: 4.3263e-04 - accuracy: 8.1900e-04 - val_loss: 0.0030 - val_accuracy: 0.0016\n",
      "Epoch 48/100\n",
      "20/20 [==============================] - 7s 324ms/step - loss: 4.0882e-04 - accuracy: 8.1900e-04 - val_loss: 0.0034 - val_accuracy: 0.0016\n",
      "Epoch 49/100\n",
      "20/20 [==============================] - 6s 299ms/step - loss: 3.8225e-04 - accuracy: 8.1900e-04 - val_loss: 0.0018 - val_accuracy: 0.0016\n",
      "Epoch 50/100\n",
      "20/20 [==============================] - 8s 378ms/step - loss: 3.7902e-04 - accuracy: 8.1900e-04 - val_loss: 0.0020 - val_accuracy: 0.0016\n",
      "Epoch 51/100\n",
      "20/20 [==============================] - 8s 381ms/step - loss: 4.1633e-04 - accuracy: 8.1900e-04 - val_loss: 0.0020 - val_accuracy: 0.0016\n",
      "Epoch 52/100\n",
      "20/20 [==============================] - 8s 395ms/step - loss: 3.8608e-04 - accuracy: 8.1900e-04 - val_loss: 0.0045 - val_accuracy: 0.0016\n",
      "Epoch 53/100\n",
      "20/20 [==============================] - 7s 328ms/step - loss: 4.0138e-04 - accuracy: 8.1900e-04 - val_loss: 0.0032 - val_accuracy: 0.0016\n",
      "Epoch 54/100\n",
      "20/20 [==============================] - 7s 367ms/step - loss: 3.7735e-04 - accuracy: 8.1900e-04 - val_loss: 0.0018 - val_accuracy: 0.0016\n"
     ]
    },
    {
     "name": "stdout",
     "output_type": "stream",
     "text": [
      "Epoch 55/100\n",
      "20/20 [==============================] - 8s 394ms/step - loss: 4.2502e-04 - accuracy: 8.1900e-04 - val_loss: 0.0016 - val_accuracy: 0.0016\n",
      "Epoch 56/100\n",
      "20/20 [==============================] - 6s 303ms/step - loss: 3.8319e-04 - accuracy: 8.1900e-04 - val_loss: 0.0015 - val_accuracy: 0.0016\n",
      "Epoch 57/100\n",
      "20/20 [==============================] - 6s 304ms/step - loss: 3.7561e-04 - accuracy: 8.1900e-04 - val_loss: 0.0026 - val_accuracy: 0.0016\n",
      "Epoch 58/100\n",
      "20/20 [==============================] - 7s 346ms/step - loss: 3.5671e-04 - accuracy: 8.1900e-04 - val_loss: 0.0035 - val_accuracy: 0.0016\n",
      "Epoch 59/100\n",
      "20/20 [==============================] - 6s 302ms/step - loss: 3.9355e-04 - accuracy: 8.1900e-04 - val_loss: 0.0028 - val_accuracy: 0.0016\n",
      "Epoch 60/100\n",
      "20/20 [==============================] - 7s 360ms/step - loss: 3.6259e-04 - accuracy: 8.1900e-04 - val_loss: 0.0017 - val_accuracy: 0.0016\n",
      "Epoch 61/100\n",
      "20/20 [==============================] - 7s 340ms/step - loss: 3.6278e-04 - accuracy: 8.1900e-04 - val_loss: 0.0033 - val_accuracy: 0.0016\n",
      "Epoch 62/100\n",
      "20/20 [==============================] - 6s 306ms/step - loss: 3.8432e-04 - accuracy: 8.1900e-04 - val_loss: 0.0033 - val_accuracy: 0.0016\n",
      "Epoch 63/100\n",
      "20/20 [==============================] - 7s 329ms/step - loss: 4.1505e-04 - accuracy: 8.1900e-04 - val_loss: 0.0022 - val_accuracy: 0.0016\n",
      "Epoch 64/100\n",
      "20/20 [==============================] - 6s 321ms/step - loss: 3.2726e-04 - accuracy: 8.1900e-04 - val_loss: 0.0014 - val_accuracy: 0.0016\n",
      "Epoch 65/100\n",
      "20/20 [==============================] - 6s 307ms/step - loss: 3.5124e-04 - accuracy: 8.1900e-04 - val_loss: 0.0017 - val_accuracy: 0.0016\n",
      "Epoch 66/100\n",
      "20/20 [==============================] - 6s 312ms/step - loss: 3.2654e-04 - accuracy: 8.1900e-04 - val_loss: 0.0020 - val_accuracy: 0.0016\n",
      "Epoch 67/100\n",
      "20/20 [==============================] - 6s 312ms/step - loss: 3.5168e-04 - accuracy: 8.1900e-04 - val_loss: 0.0014 - val_accuracy: 0.0016\n",
      "Epoch 68/100\n",
      "20/20 [==============================] - 7s 360ms/step - loss: 3.2143e-04 - accuracy: 8.1900e-04 - val_loss: 0.0018 - val_accuracy: 0.0016\n",
      "Epoch 69/100\n",
      "20/20 [==============================] - 6s 302ms/step - loss: 3.5962e-04 - accuracy: 8.1900e-04 - val_loss: 0.0022 - val_accuracy: 0.0016\n",
      "Epoch 70/100\n",
      "20/20 [==============================] - 7s 353ms/step - loss: 3.3851e-04 - accuracy: 8.1900e-04 - val_loss: 0.0016 - val_accuracy: 0.0016\n",
      "Epoch 71/100\n",
      "20/20 [==============================] - 7s 334ms/step - loss: 3.6211e-04 - accuracy: 8.1900e-04 - val_loss: 0.0011 - val_accuracy: 0.0016\n",
      "Epoch 72/100\n",
      "20/20 [==============================] - 7s 334ms/step - loss: 3.4332e-04 - accuracy: 8.1900e-04 - val_loss: 0.0019 - val_accuracy: 0.0016\n",
      "Epoch 73/100\n",
      "20/20 [==============================] - 6s 303ms/step - loss: 3.5834e-04 - accuracy: 8.1900e-04 - val_loss: 0.0040 - val_accuracy: 0.0016\n",
      "Epoch 74/100\n",
      "20/20 [==============================] - 6s 290ms/step - loss: 3.6238e-04 - accuracy: 8.1900e-04 - val_loss: 0.0019 - val_accuracy: 0.0016\n",
      "Epoch 75/100\n",
      "20/20 [==============================] - 6s 305ms/step - loss: 3.0924e-04 - accuracy: 8.1900e-04 - val_loss: 9.9350e-04 - val_accuracy: 0.0016\n",
      "Epoch 76/100\n",
      "20/20 [==============================] - 7s 371ms/step - loss: 3.2443e-04 - accuracy: 8.1900e-04 - val_loss: 8.5223e-04 - val_accuracy: 0.0016\n",
      "Epoch 77/100\n",
      "20/20 [==============================] - 8s 376ms/step - loss: 3.5916e-04 - accuracy: 8.1900e-04 - val_loss: 0.0014 - val_accuracy: 0.0016\n",
      "Epoch 78/100\n",
      "20/20 [==============================] - 8s 421ms/step - loss: 3.3279e-04 - accuracy: 8.1900e-04 - val_loss: 0.0024 - val_accuracy: 0.0016\n",
      "Epoch 79/100\n",
      "20/20 [==============================] - 6s 323ms/step - loss: 3.2441e-04 - accuracy: 8.1900e-04 - val_loss: 0.0030 - val_accuracy: 0.0016\n",
      "Epoch 80/100\n",
      "20/20 [==============================] - 6s 322ms/step - loss: 3.7579e-04 - accuracy: 8.1900e-04 - val_loss: 0.0013 - val_accuracy: 0.0016\n",
      "Epoch 81/100\n",
      "20/20 [==============================] - 7s 346ms/step - loss: 3.3748e-04 - accuracy: 8.1900e-04 - val_loss: 0.0030 - val_accuracy: 0.0016\n",
      "Epoch 82/100\n",
      "20/20 [==============================] - 6s 322ms/step - loss: 3.0407e-04 - accuracy: 8.1900e-04 - val_loss: 0.0024 - val_accuracy: 0.0016\n",
      "Epoch 83/100\n",
      "20/20 [==============================] - 6s 313ms/step - loss: 3.2368e-04 - accuracy: 8.1900e-04 - val_loss: 0.0035 - val_accuracy: 0.0016\n",
      "Epoch 84/100\n",
      "20/20 [==============================] - 6s 317ms/step - loss: 3.6732e-04 - accuracy: 8.1900e-04 - val_loss: 0.0031 - val_accuracy: 0.0016\n",
      "Epoch 85/100\n",
      "20/20 [==============================] - 6s 309ms/step - loss: 3.6595e-04 - accuracy: 8.1900e-04 - val_loss: 0.0017 - val_accuracy: 0.0016\n",
      "Epoch 86/100\n",
      "20/20 [==============================] - 7s 343ms/step - loss: 3.1546e-04 - accuracy: 8.1900e-04 - val_loss: 0.0020 - val_accuracy: 0.0016\n",
      "Epoch 87/100\n",
      "20/20 [==============================] - 6s 289ms/step - loss: 2.9193e-04 - accuracy: 8.1900e-04 - val_loss: 0.0024 - val_accuracy: 0.0016\n",
      "Epoch 88/100\n",
      "20/20 [==============================] - 6s 322ms/step - loss: 3.0306e-04 - accuracy: 8.1900e-04 - val_loss: 0.0016 - val_accuracy: 0.0016\n",
      "Epoch 89/100\n",
      "20/20 [==============================] - 7s 321ms/step - loss: 2.9563e-04 - accuracy: 8.1900e-04 - val_loss: 0.0017 - val_accuracy: 0.0016\n",
      "Epoch 90/100\n",
      "20/20 [==============================] - 6s 290ms/step - loss: 2.9430e-04 - accuracy: 8.1900e-04 - val_loss: 0.0020 - val_accuracy: 0.0016\n",
      "Epoch 91/100\n",
      "20/20 [==============================] - 7s 328ms/step - loss: 2.7708e-04 - accuracy: 8.1900e-04 - val_loss: 0.0021 - val_accuracy: 0.0016\n",
      "Epoch 92/100\n",
      "20/20 [==============================] - 6s 304ms/step - loss: 2.7459e-04 - accuracy: 8.1900e-04 - val_loss: 0.0014 - val_accuracy: 0.0016\n",
      "Epoch 93/100\n",
      "20/20 [==============================] - 6s 314ms/step - loss: 3.0229e-04 - accuracy: 8.1900e-04 - val_loss: 0.0013 - val_accuracy: 0.0016\n",
      "Epoch 94/100\n",
      "20/20 [==============================] - 6s 294ms/step - loss: 2.8035e-04 - accuracy: 8.1900e-04 - val_loss: 0.0013 - val_accuracy: 0.0016\n",
      "Epoch 95/100\n",
      "20/20 [==============================] - 6s 324ms/step - loss: 2.8312e-04 - accuracy: 8.1900e-04 - val_loss: 0.0018 - val_accuracy: 0.0016\n",
      "Epoch 96/100\n",
      "20/20 [==============================] - 7s 348ms/step - loss: 2.9684e-04 - accuracy: 8.1900e-04 - val_loss: 0.0016 - val_accuracy: 0.0016\n",
      "Epoch 97/100\n",
      "20/20 [==============================] - 8s 395ms/step - loss: 2.7466e-04 - accuracy: 8.1900e-04 - val_loss: 0.0010 - val_accuracy: 0.0016\n",
      "Epoch 98/100\n",
      "20/20 [==============================] - 7s 372ms/step - loss: 2.8771e-04 - accuracy: 8.1900e-04 - val_loss: 0.0017 - val_accuracy: 0.0016\n",
      "Epoch 99/100\n",
      "20/20 [==============================] - 6s 313ms/step - loss: 2.6657e-04 - accuracy: 8.1900e-04 - val_loss: 0.0012 - val_accuracy: 0.0016\n",
      "Epoch 100/100\n",
      "20/20 [==============================] - 6s 307ms/step - loss: 3.2827e-04 - accuracy: 8.1900e-04 - val_loss: 0.0014 - val_accuracy: 0.0016\n"
     ]
    },
    {
     "data": {
      "text/plain": [
       "<keras.callbacks.History at 0x24b5177d490>"
      ]
     },
     "execution_count": 32,
     "metadata": {},
     "output_type": "execute_result"
    }
   ],
   "source": [
    "model.fit(X_train,y_train,validation_data=(X_test,ytest),epochs=100,batch_size=64,verbose=1)"
   ]
  },
  {
   "cell_type": "markdown",
   "id": "d106c766",
   "metadata": {},
   "source": [
    "### Prediction"
   ]
  },
  {
   "cell_type": "code",
   "execution_count": 45,
   "id": "21ff02f4",
   "metadata": {},
   "outputs": [],
   "source": [
    "train_predict=model.predict(X_train)\n",
    "test_predict=model.predict(X_test)\n",
    "train_predict=scaler.inverse_transform(train_predict)\n",
    "test_predict=scaler.inverse_transform(test_predict)"
   ]
  },
  {
   "cell_type": "code",
   "execution_count": 46,
   "id": "4e9a65ad",
   "metadata": {},
   "outputs": [
    {
     "data": {
      "text/plain": [
       "136.15980048514842"
      ]
     },
     "execution_count": 46,
     "metadata": {},
     "output_type": "execute_result"
    }
   ],
   "source": [
    "import math\n",
    "from sklearn.metrics import mean_squared_error\n",
    "math.sqrt(mean_squared_error(y_train,train_predict))"
   ]
  },
  {
   "cell_type": "code",
   "execution_count": 48,
   "id": "b0c252c5",
   "metadata": {},
   "outputs": [
    {
     "data": {
      "text/plain": [
       "195.58362659545747"
      ]
     },
     "execution_count": 48,
     "metadata": {},
     "output_type": "execute_result"
    }
   ],
   "source": [
    "math.sqrt(mean_squared_error(ytest,test_predict))"
   ]
  },
  {
   "cell_type": "code",
   "execution_count": 49,
   "id": "e22d9a82",
   "metadata": {},
   "outputs": [
    {
     "data": {
      "image/png": "[encoded data removed]",
      "text/plain": [
       "<Figure size 432x288 with 1 Axes>"
      ]
     },
     "metadata": {
      "needs_background": "light"
     },
     "output_type": "display_data"
    }
   ],
   "source": [
    "look_back=100\n",
    "trainpredictplot = np.empty_like(data_close)\n",
    "trainpredictplot[:, :] =np.nan\n",
    "trainpredictplot[look_back:len(train_predict)+look_back, :] = train_predict\n",
    "\n",
    "testpredictplot =np.empty_like(data_close)\n",
    "testpredictplot[:, :] = np.nan\n",
    "testpredictplot[len(train_predict)+(look_back*2)+ 1:len(data_close) -1 , :] = test_predict\n",
    "\n",
    "plt.plot(scaler.inverse_transform(data_close))\n",
    "plt.plot(trainpredictplot)\n",
    "plt.plot(testpredictplot)\n",
    "\n",
    "plt.show()"
   ]
  },
  {
   "cell_type": "code",
   "execution_count": null,
   "id": "02706ea1",
   "metadata": {},
   "outputs": [],
   "source": []
  }
 ],
 "metadata": {
  "kernelspec": {
   "display_name": "Python 3 (ipykernel)",
   "language": "python",
   "name": "python3"
  },
  "language_info": {
   "codemirror_mode": {
    "name": "ipython",
    "version": 3
   },
   "file_extension": ".py",
   "mimetype": "text/x-python",
   "name": "python",
   "nbconvert_exporter": "python",
   "pygments_lexer": "ipython3",
   "version": "3.9.7"
  }
 },
 "nbformat": 4,
 "nbformat_minor": 5
}
